{
 "cells": [
  {
   "cell_type": "markdown",
   "id": "4f7953a0",
   "metadata": {},
   "source": [
    "# Lesson 1 Hands On\n",
    "\n"
   ]
  },
  {
   "cell_type": "markdown",
   "id": "f7e5952f",
   "metadata": {},
   "source": [
    "## Complete simple linear regression in Python and test for assumptions. \n",
    "\n",
    "* Load Packages"
   ]
  },
  {
   "cell_type": "code",
   "execution_count": 1,
   "id": "8f74db05",
   "metadata": {},
   "outputs": [],
   "source": [
    "import pandas as pd\n",
    "import numpy as np\n",
    "import matplotlib.pyplot as plt\n",
    "from pylab import *\n",
    "import seaborn as sns\n",
    "import statsmodels.stats.api as sms\n",
    "from scipy.stats import boxcox\n",
    "import  statsmodels.api as sm"
   ]
  },
  {
   "cell_type": "code",
   "execution_count": 27,
   "id": "1ff69664",
   "metadata": {},
   "outputs": [],
   "source": [
    "# Read in the data\n",
    "\n",
    "height = pd.read_csv('heights.csv')"
   ]
  },
  {
   "cell_type": "code",
   "execution_count": 28,
   "id": "20227ad1",
   "metadata": {},
   "outputs": [],
   "source": [
    "heights = pd.DataFrame(height)"
   ]
  },
  {
   "cell_type": "code",
   "execution_count": 34,
   "id": "5a187a13",
   "metadata": {},
   "outputs": [
    {
     "data": {
      "text/html": [
       "<div>\n",
       "<style scoped>\n",
       "    .dataframe tbody tr th:only-of-type {\n",
       "        vertical-align: middle;\n",
       "    }\n",
       "\n",
       "    .dataframe tbody tr th {\n",
       "        vertical-align: top;\n",
       "    }\n",
       "\n",
       "    .dataframe thead th {\n",
       "        text-align: right;\n",
       "    }\n",
       "</style>\n",
       "<table border=\"1\" class=\"dataframe\">\n",
       "  <thead>\n",
       "    <tr style=\"text-align: right;\">\n",
       "      <th></th>\n",
       "      <th>AM_Height</th>\n",
       "      <th>PM_Height</th>\n",
       "    </tr>\n",
       "  </thead>\n",
       "  <tbody>\n",
       "    <tr>\n",
       "      <th>0</th>\n",
       "      <td>1728.75</td>\n",
       "      <td>1720.25</td>\n",
       "    </tr>\n",
       "    <tr>\n",
       "      <th>1</th>\n",
       "      <td>1538.25</td>\n",
       "      <td>1528.50</td>\n",
       "    </tr>\n",
       "    <tr>\n",
       "      <th>2</th>\n",
       "      <td>1462.25</td>\n",
       "      <td>1452.50</td>\n",
       "    </tr>\n",
       "    <tr>\n",
       "      <th>3</th>\n",
       "      <td>1782.50</td>\n",
       "      <td>1776.50</td>\n",
       "    </tr>\n",
       "    <tr>\n",
       "      <th>4</th>\n",
       "      <td>1671.00</td>\n",
       "      <td>1667.00</td>\n",
       "    </tr>\n",
       "    <tr>\n",
       "      <th>5</th>\n",
       "      <td>1581.75</td>\n",
       "      <td>1571.00</td>\n",
       "    </tr>\n",
       "    <tr>\n",
       "      <th>6</th>\n",
       "      <td>1673.75</td>\n",
       "      <td>1664.50</td>\n",
       "    </tr>\n",
       "    <tr>\n",
       "      <th>7</th>\n",
       "      <td>1721.75</td>\n",
       "      <td>1708.50</td>\n",
       "    </tr>\n",
       "    <tr>\n",
       "      <th>8</th>\n",
       "      <td>1646.50</td>\n",
       "      <td>1636.00</td>\n",
       "    </tr>\n",
       "    <tr>\n",
       "      <th>9</th>\n",
       "      <td>1793.75</td>\n",
       "      <td>1781.75</td>\n",
       "    </tr>\n",
       "    <tr>\n",
       "      <th>10</th>\n",
       "      <td>1825.25</td>\n",
       "      <td>1814.00</td>\n",
       "    </tr>\n",
       "    <tr>\n",
       "      <th>11</th>\n",
       "      <td>1801.50</td>\n",
       "      <td>1787.00</td>\n",
       "    </tr>\n",
       "    <tr>\n",
       "      <th>12</th>\n",
       "      <td>1742.50</td>\n",
       "      <td>1729.75</td>\n",
       "    </tr>\n",
       "    <tr>\n",
       "      <th>13</th>\n",
       "      <td>1720.50</td>\n",
       "      <td>1711.50</td>\n",
       "    </tr>\n",
       "    <tr>\n",
       "      <th>14</th>\n",
       "      <td>1728.25</td>\n",
       "      <td>1717.25</td>\n",
       "    </tr>\n",
       "    <tr>\n",
       "      <th>15</th>\n",
       "      <td>1753.75</td>\n",
       "      <td>1742.75</td>\n",
       "    </tr>\n",
       "    <tr>\n",
       "      <th>16</th>\n",
       "      <td>1725.50</td>\n",
       "      <td>1716.75</td>\n",
       "    </tr>\n",
       "    <tr>\n",
       "      <th>17</th>\n",
       "      <td>1598.00</td>\n",
       "      <td>1592.25</td>\n",
       "    </tr>\n",
       "    <tr>\n",
       "      <th>18</th>\n",
       "      <td>1756.25</td>\n",
       "      <td>1747.00</td>\n",
       "    </tr>\n",
       "    <tr>\n",
       "      <th>19</th>\n",
       "      <td>1674.00</td>\n",
       "      <td>1662.50</td>\n",
       "    </tr>\n",
       "    <tr>\n",
       "      <th>20</th>\n",
       "      <td>1688.75</td>\n",
       "      <td>1677.00</td>\n",
       "    </tr>\n",
       "    <tr>\n",
       "      <th>21</th>\n",
       "      <td>1688.75</td>\n",
       "      <td>1681.00</td>\n",
       "    </tr>\n",
       "    <tr>\n",
       "      <th>22</th>\n",
       "      <td>1620.75</td>\n",
       "      <td>1613.50</td>\n",
       "    </tr>\n",
       "    <tr>\n",
       "      <th>23</th>\n",
       "      <td>1679.00</td>\n",
       "      <td>1668.25</td>\n",
       "    </tr>\n",
       "    <tr>\n",
       "      <th>24</th>\n",
       "      <td>1557.25</td>\n",
       "      <td>1550.25</td>\n",
       "    </tr>\n",
       "    <tr>\n",
       "      <th>25</th>\n",
       "      <td>1704.50</td>\n",
       "      <td>1696.50</td>\n",
       "    </tr>\n",
       "    <tr>\n",
       "      <th>26</th>\n",
       "      <td>1632.75</td>\n",
       "      <td>1619.00</td>\n",
       "    </tr>\n",
       "    <tr>\n",
       "      <th>27</th>\n",
       "      <td>1587.00</td>\n",
       "      <td>1581.50</td>\n",
       "    </tr>\n",
       "    <tr>\n",
       "      <th>28</th>\n",
       "      <td>1598.75</td>\n",
       "      <td>1590.50</td>\n",
       "    </tr>\n",
       "    <tr>\n",
       "      <th>29</th>\n",
       "      <td>1592.25</td>\n",
       "      <td>1583.50</td>\n",
       "    </tr>\n",
       "    <tr>\n",
       "      <th>30</th>\n",
       "      <td>1719.50</td>\n",
       "      <td>1709.25</td>\n",
       "    </tr>\n",
       "    <tr>\n",
       "      <th>31</th>\n",
       "      <td>1807.50</td>\n",
       "      <td>1795.00</td>\n",
       "    </tr>\n",
       "    <tr>\n",
       "      <th>32</th>\n",
       "      <td>1624.00</td>\n",
       "      <td>1619.50</td>\n",
       "    </tr>\n",
       "    <tr>\n",
       "      <th>33</th>\n",
       "      <td>1705.25</td>\n",
       "      <td>1694.50</td>\n",
       "    </tr>\n",
       "    <tr>\n",
       "      <th>34</th>\n",
       "      <td>1692.75</td>\n",
       "      <td>1686.00</td>\n",
       "    </tr>\n",
       "    <tr>\n",
       "      <th>35</th>\n",
       "      <td>1795.25</td>\n",
       "      <td>1782.00</td>\n",
       "    </tr>\n",
       "    <tr>\n",
       "      <th>36</th>\n",
       "      <td>1643.50</td>\n",
       "      <td>1628.75</td>\n",
       "    </tr>\n",
       "    <tr>\n",
       "      <th>37</th>\n",
       "      <td>1677.25</td>\n",
       "      <td>1668.25</td>\n",
       "    </tr>\n",
       "    <tr>\n",
       "      <th>38</th>\n",
       "      <td>1647.75</td>\n",
       "      <td>1641.50</td>\n",
       "    </tr>\n",
       "    <tr>\n",
       "      <th>39</th>\n",
       "      <td>1620.00</td>\n",
       "      <td>1608.25</td>\n",
       "    </tr>\n",
       "    <tr>\n",
       "      <th>40</th>\n",
       "      <td>1727.50</td>\n",
       "      <td>1721.25</td>\n",
       "    </tr>\n",
       "  </tbody>\n",
       "</table>\n",
       "</div>"
      ],
      "text/plain": [
       "    AM_Height  PM_Height\n",
       "0     1728.75    1720.25\n",
       "1     1538.25    1528.50\n",
       "2     1462.25    1452.50\n",
       "3     1782.50    1776.50\n",
       "4     1671.00    1667.00\n",
       "5     1581.75    1571.00\n",
       "6     1673.75    1664.50\n",
       "7     1721.75    1708.50\n",
       "8     1646.50    1636.00\n",
       "9     1793.75    1781.75\n",
       "10    1825.25    1814.00\n",
       "11    1801.50    1787.00\n",
       "12    1742.50    1729.75\n",
       "13    1720.50    1711.50\n",
       "14    1728.25    1717.25\n",
       "15    1753.75    1742.75\n",
       "16    1725.50    1716.75\n",
       "17    1598.00    1592.25\n",
       "18    1756.25    1747.00\n",
       "19    1674.00    1662.50\n",
       "20    1688.75    1677.00\n",
       "21    1688.75    1681.00\n",
       "22    1620.75    1613.50\n",
       "23    1679.00    1668.25\n",
       "24    1557.25    1550.25\n",
       "25    1704.50    1696.50\n",
       "26    1632.75    1619.00\n",
       "27    1587.00    1581.50\n",
       "28    1598.75    1590.50\n",
       "29    1592.25    1583.50\n",
       "30    1719.50    1709.25\n",
       "31    1807.50    1795.00\n",
       "32    1624.00    1619.50\n",
       "33    1705.25    1694.50\n",
       "34    1692.75    1686.00\n",
       "35    1795.25    1782.00\n",
       "36    1643.50    1628.75\n",
       "37    1677.25    1668.25\n",
       "38    1647.75    1641.50\n",
       "39    1620.00    1608.25\n",
       "40    1727.50    1721.25"
      ]
     },
     "execution_count": 34,
     "metadata": {},
     "output_type": "execute_result"
    }
   ],
   "source": [
    "heights"
   ]
  },
  {
   "cell_type": "markdown",
   "id": "01e6965b",
   "metadata": {},
   "source": [
    "# Test Assumptions\n",
    "\n",
    "* Test for linear relationship between x and y and normal distribution.  "
   ]
  },
  {
   "cell_type": "code",
   "execution_count": 29,
   "id": "52482100",
   "metadata": {},
   "outputs": [
    {
     "data": {
      "text/plain": [
       "<seaborn.axisgrid.PairGrid at 0x17a08000390>"
      ]
     },
     "execution_count": 29,
     "metadata": {},
     "output_type": "execute_result"
    },
    {
     "data": {
      "image/png": "[encoded data removed]",
      "text/plain": [
       "<Figure size 500x500 with 6 Axes>"
      ]
     },
     "metadata": {},
     "output_type": "display_data"
    }
   ],
   "source": [
    "# Using Seaborn as sns\n",
    "sns.pairplot(heights)"
   ]
  },
  {
   "cell_type": "markdown",
   "id": "439d1e8a",
   "metadata": {},
   "source": [
    "The Bar chart shows the data is in general, normally distributed and the scatterplots show the data have a strong positive relationship.\n",
    "\n",
    "Also, run a barchart with the normal distribution curve on it. "
   ]
  },
  {
   "cell_type": "code",
   "execution_count": 30,
   "id": "9e6950a0",
   "metadata": {},
   "outputs": [
    {
     "name": "stderr",
     "output_type": "stream",
     "text": [
      "C:\\Users\\chris\\AppData\\Local\\Temp\\ipykernel_8444\\3300282255.py:1: UserWarning: \n",
      "\n",
      "`distplot` is a deprecated function and will be removed in seaborn v0.14.0.\n",
      "\n",
      "Please adapt your code to use either `displot` (a figure-level function with\n",
      "similar flexibility) or `histplot` (an axes-level function for histograms).\n",
      "\n",
      "For a guide to updating your code to use the new functions, please see\n",
      "https://gist.github.com/mwaskom/de44147ed2974457ad6372750bbe5751\n",
      "\n",
      "  sns.distplot(heights['AM_Height'])\n"
     ]
    },
    {
     "data": {
      "text/plain": [
       "<AxesSubplot: xlabel='AM_Height', ylabel='Density'>"
      ]
     },
     "execution_count": 30,
     "metadata": {},
     "output_type": "execute_result"
    },
    {
     "data": {
      "image/png": "[encoded data removed]",
      "text/plain": [
       "<Figure size 640x480 with 1 Axes>"
      ]
     },
     "metadata": {},
     "output_type": "display_data"
    }
   ],
   "source": [
    "sns.distplot(heights['AM_Height'])"
   ]
  },
  {
   "cell_type": "code",
   "execution_count": 31,
   "id": "45ce7953",
   "metadata": {},
   "outputs": [
    {
     "name": "stderr",
     "output_type": "stream",
     "text": [
      "C:\\Users\\chris\\AppData\\Local\\Temp\\ipykernel_8444\\3083221884.py:1: UserWarning: \n",
      "\n",
      "`distplot` is a deprecated function and will be removed in seaborn v0.14.0.\n",
      "\n",
      "Please adapt your code to use either `displot` (a figure-level function with\n",
      "similar flexibility) or `histplot` (an axes-level function for histograms).\n",
      "\n",
      "For a guide to updating your code to use the new functions, please see\n",
      "https://gist.github.com/mwaskom/de44147ed2974457ad6372750bbe5751\n",
      "\n",
      "  sns.distplot(heights['PM_Height'])\n"
     ]
    },
    {
     "data": {
      "text/plain": [
       "<AxesSubplot: xlabel='PM_Height', ylabel='Density'>"
      ]
     },
     "execution_count": 31,
     "metadata": {},
     "output_type": "execute_result"
    },
    {
     "data": {
      "image/png": "[encoded data removed]",
      "text/plain": [
       "<Figure size 640x480 with 1 Axes>"
      ]
     },
     "metadata": {},
     "output_type": "display_data"
    }
   ],
   "source": [
    "sns.distplot(heights['PM_Height'])"
   ]
  },
  {
   "cell_type": "markdown",
   "id": "d9878562",
   "metadata": {},
   "source": [
    "### We can observe above the data appear normally distributed. They are not perfect bell curves but they look pretty close. \n",
    "\n",
    "# Next, testing for homoscedasticity\n",
    "\n",
    "* Create a Model, then run the test"
   ]
  },
  {
   "cell_type": "code",
   "execution_count": 32,
   "id": "703424b2",
   "metadata": {},
   "outputs": [],
   "source": [
    "# Create the variables in order to create the model\n",
    "x = heights['AM_Height']\n",
    "y = heights['AM_Height']"
   ]
  },
  {
   "cell_type": "code",
   "execution_count": 33,
   "id": "1facb090",
   "metadata": {},
   "outputs": [],
   "source": [
    "# Create the model using OLS function from statsmodels\n",
    "model = sm.OLS(y,x).fit()"
   ]
  },
  {
   "cell_type": "code",
   "execution_count": 39,
   "id": "9d080cd0",
   "metadata": {},
   "outputs": [],
   "source": [
    "# To test for homoscedasticity calculate the residuals\n",
    "\n",
    "pred_val = model.fittedvalues.copy()\n",
    "true_val = heights['PM_Height'].values.copy()\n",
    "residual = true_val - pred_val"
   ]
  },
  {
   "cell_type": "code",
   "execution_count": 41,
   "id": "73e539db",
   "metadata": {},
   "outputs": [
    {
     "data": {
      "image/png": "[encoded data removed]",
      "text/plain": [
       "<Figure size 600x250 with 1 Axes>"
      ]
     },
     "metadata": {},
     "output_type": "display_data"
    }
   ],
   "source": [
    "# scatter plot showing some heteroscedasticity\n",
    "\n",
    "fig, ax = plt.subplots(figsize = (6, 2.5))\n",
    "_ = ax.scatter(residual, pred_val)"
   ]
  },
  {
   "cell_type": "code",
   "execution_count": 46,
   "id": "638d4042",
   "metadata": {},
   "outputs": [
    {
     "data": {
      "text/plain": [
       "(32.69248798466149, nan, 157.41169160778819, 1.8989581032236343e-15)"
      ]
     },
     "execution_count": 46,
     "metadata": {},
     "output_type": "execute_result"
    }
   ],
   "source": [
    "# Using statsmodels check the statistics against the scatterplot\n",
    "\n",
    "# use the function diagnostic.het_breuschpagan\n",
    "\n",
    "sms.diagnostic.het_breuschpagan(residual, heights[['AM_Height']])"
   ]
  },
  {
   "cell_type": "markdown",
   "id": "9c1c11d6",
   "metadata": {},
   "source": [
    "* The the p value is less than .05 so this data is statistically significant. "
   ]
  },
  {
   "cell_type": "code",
   "execution_count": 25,
   "id": "70906c0f",
   "metadata": {},
   "outputs": [
    {
     "data": {
      "text/plain": [
       "TtestResult(statistic=nan, pvalue=nan, df=nan)"
      ]
     },
     "execution_count": 25,
     "metadata": {},
     "output_type": "execute_result"
    }
   ],
   "source": [
    "# Testing for homoscedasticity using the Harvey Collier test\n",
    "\n",
    "sms.linear_harvey_collier(model)"
   ]
  },
  {
   "cell_type": "code",
   "execution_count": null,
   "id": "b301a639",
   "metadata": {},
   "outputs": [],
   "source": []
  }
 ],
 "metadata": {
  "kernelspec": {
   "display_name": "Python 3 (ipykernel)",
   "language": "python",
   "name": "python3"
  },
  "language_info": {
   "codemirror_mode": {
    "name": "ipython",
    "version": 3
   },
   "file_extension": ".py",
   "mimetype": "text/x-python",
   "name": "python",
   "nbconvert_exporter": "python",
   "pygments_lexer": "ipython3",
   "version": "3.11.0"
  }
 },
 "nbformat": 4,
 "nbformat_minor": 5
}
